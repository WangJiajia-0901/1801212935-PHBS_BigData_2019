{
 "cells": [
  {
   "cell_type": "markdown",
   "metadata": {},
   "source": [
    "Problem1 --Creating Your First Model"
   ]
  },
  {
   "cell_type": "markdown",
   "metadata": {},
   "source": [
    "Answer 1. Implement a function closed_form_1 that computes this closed form solution given the features 𝐗, labels Y (using Python or Matlab)."
   ]
  },
  {
   "cell_type": "code",
   "execution_count": 59,
   "metadata": {},
   "outputs": [],
   "source": [
    "import pandas as pd\n",
    "import numpy as np\n",
    "climate_change_1 = pd.read_csv('climate_change_1.csv')"
   ]
  },
  {
   "cell_type": "code",
   "execution_count": 60,
   "metadata": {},
   "outputs": [],
   "source": [
    "#divide the data into train and test set\n",
    "climate_change_1_train = climate_change_1[climate_change_1['Year']<2007]\n",
    "climate_change_1_test = climate_change_1[climate_change_1['Year']>2006]\n",
    "climate_change_1_train_Y = climate_change_1_train['Temp']\n",
    "climate_change_1_train_X = climate_change_1_train.iloc[:,1:10]\n",
    "climate_change_1_train_X['Month']=1\n",
    "climate_change_1_test_Y = climate_change_1_test['Temp']\n",
    "climate_change_1_test_X = climate_change_1_test.iloc[:,2:10]\n",
    "#print(climate_change_1_train_Y)\n",
    "#print(climate_change_1_train_X)\n",
    "estimationtheta = np.dot(np.linalg.inv(np.dot(climate_change_1_train_X.T,climate_change_1_train_X)),climate_change_1_train_X.T)\n",
    "#print(estimationtheta)\n",
    "estimationtheta = np.dot(estimationtheta,climate_change_1_train_Y)\n",
    "#print(estimationtheta)"
   ]
  },
  {
   "cell_type": "code",
   "execution_count": 61,
   "metadata": {},
   "outputs": [
    {
     "name": "stdout",
     "output_type": "stream",
     "text": [
      "Estimated theta is [-1.24594261e+02  6.42053134e-02  6.45735927e-03  1.24041896e-04\n",
      " -1.65280033e-02 -6.63048889e-03  3.80810324e-03  9.31410838e-02\n",
      " -1.53761324e+00]\n"
     ]
    }
   ],
   "source": [
    "def closed_form_1(x,y):\n",
    "    estimationtheta = np.linalg.inv(np.dot(x.T,x))\n",
    "    estimationtheta = np.dot(estimationtheta,x.T)\n",
    "    estimationtheta = np.dot(estimationtheta,y)\n",
    "    return estimationtheta\n",
    "theta_est = closed_form_1(climate_change_1_train_X,climate_change_1_train_Y)\n",
    "print('Estimated theta is',theta_est)"
   ]
  },
  {
   "cell_type": "markdown",
   "metadata": {},
   "source": [
    "Answer2. Write down the mathematical formula for the linear model and evaluate the model R2 on the training set and the testing set."
   ]
  },
  {
   "cell_type": "code",
   "execution_count": 62,
   "metadata": {},
   "outputs": [
    {
     "name": "stdout",
     "output_type": "stream",
     "text": [
      "R Square on training set is 0.7508932770523417\n"
     ]
    }
   ],
   "source": [
    "from sklearn.linear_model import LinearRegression\n",
    "climate_change_1_train_X = climate_change_1_train.iloc[:,2:10]\n",
    "model = LinearRegression()\n",
    "model.fit(climate_change_1_train_X,climate_change_1_train_Y)\n",
    "a  = model.intercept_#intercept\n",
    "b = model.coef_#theta\n",
    "#print(\"intercept\",a,\",theta：\",b)\n",
    "r2_train = model.score(climate_change_1_train_X,climate_change_1_train_Y)\n",
    "print('R Square on training set is',r2_train)"
   ]
  },
  {
   "cell_type": "code",
   "execution_count": 63,
   "metadata": {},
   "outputs": [
    {
     "name": "stdout",
     "output_type": "stream",
     "text": [
      "R Square on testing set is 0.22517701648821745\n"
     ]
    }
   ],
   "source": [
    "def R2(y_pred,y_test):\n",
    "    SStot = np.sum((y_test-np.mean(y_test))**2)\n",
    "    SSres = np.sum((y_pred-np.mean(y_test))**2)\n",
    "    r2 = SSres/SStot\n",
    "    return r2\n",
    "\n",
    "climate_change_1_test_Y = climate_change_1_test['Temp']\n",
    "climate_change_1_test_X = climate_change_1_test.iloc[:,1:10]\n",
    "climate_change_1_test_X['Month']=1\n",
    "r2_test = R2(np.dot(climate_change_1_test_X,theta_est),climate_change_1_test_Y)\n",
    "print('R Square on testing set is',r2_test)"
   ]
  },
  {
   "cell_type": "markdown",
   "metadata": {},
   "source": [
    "Answer 3.Which variables are significant in the model?"
   ]
  },
  {
   "cell_type": "code",
   "execution_count": 65,
   "metadata": {
    "scrolled": true
   },
   "outputs": [
    {
     "name": "stdout",
     "output_type": "stream",
     "text": [
      "All the variablesexcept for CH4,N2O all are significant\n"
     ]
    }
   ],
   "source": [
    "import statsmodels.api as sm\n",
    "from statsmodels import regression\n",
    "climate_change_1_train_X_new=sm.add_constant(climate_change_1_train_X)\n",
    "model=sm.OLS(climate_change_1_train_Y,climate_change_1_train_X_new)\n",
    "res=model.fit()\n",
    "Bata=res.params\n",
    "#print(Bata)\n",
    "res.summary()\n",
    "print('All the variablesexcept for CH4,N2O all are significant')"
   ]
  },
  {
   "cell_type": "markdown",
   "metadata": {},
   "source": [
    "Answer 4.Write down the necessary conditions for using the closed form solution. And you can apply it to the dataset climate_change_2.csv, explain the solution is unreasonable."
   ]
  },
  {
   "cell_type": "markdown",
   "metadata": {},
   "source": [
    "The necessary condition is that the XTX is convertible which means that it is full rank.\n",
    "The solution is unreasonable because the X is so sparse and XTX is not convertible not with full rank."
   ]
  },
  {
   "cell_type": "code",
   "execution_count": 66,
   "metadata": {},
   "outputs": [
    {
     "name": "stdout",
     "output_type": "stream",
     "text": [
      "Estimated theta is [-1.93020753e+02  1.62621875e-01  6.05068002e-03 -6.61255665e-02\n",
      " -1.65280033e-02 -6.63048891e-03  3.80810325e-03  9.31410844e-02\n",
      " -1.53761324e+00  6.65262454e+01]\n"
     ]
    }
   ],
   "source": [
    "#question 4\n",
    "#The X is so sparse.\n",
    "#divide the data into train and test set\n",
    "climate_change_2 = pd.read_csv('climate_change_2.csv')\n",
    "climate_change_2_train = climate_change_2[climate_change_2['Year']<2007]\n",
    "climate_change_2_test = climate_change_2[climate_change_2['Year']>2006]\n",
    "climate_change_2_train_Y = climate_change_2_train['Temp']\n",
    "climate_change_2_train_X = climate_change_2_train.iloc[:,1:11]\n",
    "climate_change_2_train_X['Month']=1\n",
    "climate_change_2_test_Y = climate_change_2_test['Temp']\n",
    "climate_change_2_test_X = climate_change_2_test.iloc[:,2:11]\n",
    "#print(climate_change_1_train_Y)\n",
    "#print(climate_change_1_train_X)\n",
    "theta_est2 = closed_form_1(climate_change_2_train_X,climate_change_2_train_Y)\n",
    "print('Estimated theta is',theta_est2)"
   ]
  },
  {
   "cell_type": "markdown",
   "metadata": {},
   "source": [
    "Problem 2 Regularization"
   ]
  },
  {
   "cell_type": "markdown",
   "metadata": {},
   "source": [
    "Answer: 1.Please write down the loss function for linear model with L1 regularization, L2 regularization, respectively."
   ]
  },
  {
   "cell_type": "markdown",
   "metadata": {},
   "source": [
    "L1 regularization:\n",
    "$$ (Y - X\\beta)^T(Y-X\\beta)+\\lambda|\\beta|$ $$\n",
    "L2 regularization:\n",
    "$$ (Y - X\\beta)^T(Y-X\\beta)+\\lambda|\\beta|^2$ $$"
   ]
  },
  {
   "cell_type": "markdown",
   "metadata": {},
   "source": [
    "Answer: 2. The closed form solution for linear model with L2 regularization:\n",
    "𝛉 = (𝐗𝐓𝐗 + 𝛌𝐈)_1𝐗𝐓𝐘\n",
    "where I is the identity matrix. Write a function closed_form_2 that computes this closed form solution given the features X, labels Y and the regularization parameter λ (using Python or Matlab)."
   ]
  },
  {
   "cell_type": "code",
   "execution_count": 70,
   "metadata": {},
   "outputs": [
    {
     "name": "stdout",
     "output_type": "stream",
     "text": [
      "Estimated theta with L2 is [-2.62324146e-01  5.46344723e-02  6.35012916e-03  7.94610956e-05\n",
      " -1.34794077e-02 -5.83699154e-03  3.59093203e-03  1.44947810e-03\n",
      " -1.26505174e+00]\n"
     ]
    }
   ],
   "source": [
    "#question 2.2\n",
    "def closed_form_2(x,y,lamb):\n",
    "    estimationtheta = np.linalg.inv(np.dot(x.T,x)+np.eye(x.shape[1])*lamb)\n",
    "    estimationtheta = np.dot(estimationtheta,x.T)\n",
    "    estimationtheta = np.dot(estimationtheta,y)\n",
    "    return estimationtheta\n",
    "climate_change_1_train_Y = climate_change_1_train['Temp']\n",
    "climate_change_1_train_X = climate_change_1_train.iloc[:,1:10]\n",
    "climate_change_1_train_X['Month']=1\n",
    "climate_change_1_test_Y = climate_change_1_test['Temp']\n",
    "climate_change_1_test_X = climate_change_1_test.iloc[:,1:10]\n",
    "climate_change_1_test_X['Month']=1\n",
    "theta_l2 = closed_form_2(climate_change_1_train_X,climate_change_1_train_Y,0.01)\n",
    "print('Estimated theta with L2 is',theta_l2)\n",
    "# prevent overfitting"
   ]
  },
  {
   "cell_type": "markdown",
   "metadata": {},
   "source": [
    "Answer: 3.Compare the two solutions in problem 1 and problem 2 and explain the reason why linear model with L2 regularization is robust. (using climate_change_1.csv)"
   ]
  },
  {
   "cell_type": "code",
   "execution_count": 79,
   "metadata": {},
   "outputs": [
    {
     "name": "stdout",
     "output_type": "stream",
     "text": [
      "124.60380107885653\n",
      "1.2932230624781718\n"
     ]
    }
   ],
   "source": [
    "norm_1=np.linalg.norm(theta_est)\n",
    "norm_2=np.linalg.norm(theta_l2)\n",
    "print(norm_1)\n",
    "print(norm_2)"
   ]
  },
  {
   "cell_type": "markdown",
   "metadata": {},
   "source": [
    "The L2 norm of the linear model with L2 regularization is much smaller than the L2 norm of the linear model without L2 regularization. In that case, the model with L2 regularization is less sensitive about the change of the variables, which means that it is more robust."
   ]
  },
  {
   "cell_type": "markdown",
   "metadata": {},
   "source": [
    "Answer: 4. You can change the regularization parameter λ to get different solutions for this problem. Suppose we set λ = 10, 1, 0.1, 0.01, 0.001, and please evaluate the model R2 on the training set and the testing set. Finally, please decide the best regularization parameter λ. (Note that: As a qualified data analyst, you must know how to choose model parameters, please learn about cross validation methods.)"
   ]
  },
  {
   "cell_type": "code",
   "execution_count": 81,
   "metadata": {},
   "outputs": [
    {
     "name": "stdout",
     "output_type": "stream",
     "text": [
      "R2 on training data [0.6746079231231252, 0.6794692110077019, 0.6944684109167354, 0.7116529617404003, 0.7148330433310096]\n",
      "R2 on testing data [0.9408716922329128, 0.8467501180016944, 0.6732879125796498, 0.5852763146102683, 0.5625217960387379]\n"
     ]
    }
   ],
   "source": [
    "# question 4\n",
    "from sklearn.metrics import r2_score\n",
    "def R2(y_pred,y_test):\n",
    "    SStot = np.sum((y_test-np.mean(y_test))**2)\n",
    "    SSres = np.sum((y_pred-np.mean(y_test))**2)\n",
    "    r2 = SSres/SStot\n",
    "    return r2\n",
    "\n",
    "def predict_l2(theta,X_train):\n",
    "    y_pred = np.dot(X_train,theta)\n",
    "    return (y_pred)\n",
    "climate_change_1_train_Y = climate_change_1_train['Temp']\n",
    "climate_change_1_train_X = climate_change_1_train.iloc[:,1:10]\n",
    "climate_change_1_train_X['Month']=1\n",
    "climate_change_1_test_Y = climate_change_1_test['Temp']\n",
    "climate_change_1_test_X = climate_change_1_test.iloc[:,1:10]\n",
    "climate_change_1_test_X['Month']=1\n",
    "\n",
    "train_r2 = []\n",
    "test_r2 = []\n",
    "lambda_set = [10,1,0.1,0.01,0.001]\n",
    "for ii in lambda_set:\n",
    "    theta = closed_form_2(climate_change_1_train_X,climate_change_1_train_Y,ii)\n",
    "    train_pred = predict_l2(theta,climate_change_1_train_X)\n",
    "    R2_train = R2(train_pred,climate_change_1_train_Y)\n",
    "    train_r2.append(R2_train)\n",
    "    test_pred = predict_l2(theta,climate_change_1_test_X)\n",
    "    R2_test = R2(test_pred,climate_change_1_test_Y)\n",
    "    test_r2.append(R2_test)\n",
    "\n",
    "print('R2 on training data',train_r2)\n",
    "print('R2 on testing data',test_r2)"
   ]
  },
  {
   "cell_type": "code",
   "execution_count": 83,
   "metadata": {},
   "outputs": [
    {
     "data": {
      "image/png": "[encoded data removed]",
      "text/plain": [
       "<Figure size 432x288 with 1 Axes>"
      ]
     },
     "metadata": {
      "needs_background": "light"
     },
     "output_type": "display_data"
    }
   ],
   "source": [
    "import matplotlib.pyplot as plt\n",
    "plt.plot(lambda_set,train_r2)\n",
    "plt.plot(lambda_set,test_r2)\n",
    "plt.show()"
   ]
  },
  {
   "cell_type": "code",
   "execution_count": 86,
   "metadata": {},
   "outputs": [
    {
     "name": "stdout",
     "output_type": "stream",
     "text": [
      "the best alpha 0.01\n"
     ]
    }
   ],
   "source": [
    "#use cross validation to choose the lambda\n",
    "from sklearn.linear_model import Ridge,RidgeCV\n",
    "model = RidgeCV(alphas=[10,1,0.1,0.01,0.001]) \n",
    "climate_change_1_train_Y = climate_change_1_train['Temp']\n",
    "climate_change_1_train_X = climate_change_1_train.iloc[:,2:10]\n",
    "model.fit(climate_change_1_train_X, climate_change_1_train_Y) \n",
    "print('the best alpha',model.alpha_) "
   ]
  },
  {
   "cell_type": "markdown",
   "metadata": {},
   "source": [
    "Problem 3 — Feature Selection"
   ]
  },
  {
   "cell_type": "markdown",
   "metadata": {},
   "source": [
    "Answer: 1. From Problem 1, you can know which variables are significant, therefore you can use less variables to train model. For example, remove highly correlated and redundant features. You can propose a workflow to select feature."
   ]
  },
  {
   "cell_type": "markdown",
   "metadata": {},
   "source": [
    "Solution 1: Manually remove the correlated and unsignificant features.\n",
    "Delete N20, CH4, CFC-12 because they are highly related and delete CFC-11 because it is not significant."
   ]
  },
  {
   "cell_type": "code",
   "execution_count": 88,
   "metadata": {},
   "outputs": [
    {
     "data": {
      "text/html": [
       "<table class=\"simpletable\">\n",
       "<caption>OLS Regression Results</caption>\n",
       "<tr>\n",
       "  <th>Dep. Variable:</th>          <td>Temp</td>       <th>  R-squared:         </th> <td>   0.734</td>\n",
       "</tr>\n",
       "<tr>\n",
       "  <th>Model:</th>                   <td>OLS</td>       <th>  Adj. R-squared:    </th> <td>   0.730</td>\n",
       "</tr>\n",
       "<tr>\n",
       "  <th>Method:</th>             <td>Least Squares</td>  <th>  F-statistic:       </th> <td>   192.1</td>\n",
       "</tr>\n",
       "<tr>\n",
       "  <th>Date:</th>             <td>Wed, 25 Dec 2019</td> <th>  Prob (F-statistic):</th> <td>7.36e-79</td>\n",
       "</tr>\n",
       "<tr>\n",
       "  <th>Time:</th>                 <td>14:27:15</td>     <th>  Log-Likelihood:    </th> <td>  270.59</td>\n",
       "</tr>\n",
       "<tr>\n",
       "  <th>No. Observations:</th>      <td>   284</td>      <th>  AIC:               </th> <td>  -531.2</td>\n",
       "</tr>\n",
       "<tr>\n",
       "  <th>Df Residuals:</th>          <td>   279</td>      <th>  BIC:               </th> <td>  -512.9</td>\n",
       "</tr>\n",
       "<tr>\n",
       "  <th>Df Model:</th>              <td>     4</td>      <th>                     </th>     <td> </td>   \n",
       "</tr>\n",
       "<tr>\n",
       "  <th>Covariance Type:</th>      <td>nonrobust</td>    <th>                     </th>     <td> </td>   \n",
       "</tr>\n",
       "</table>\n",
       "<table class=\"simpletable\">\n",
       "<tr>\n",
       "      <td></td>        <th>coef</th>     <th>std err</th>      <th>t</th>      <th>P>|t|</th>  <th>[0.025</th>    <th>0.975]</th>  \n",
       "</tr>\n",
       "<tr>\n",
       "  <th>const</th>    <td> -118.6016</td> <td>   19.906</td> <td>   -5.958</td> <td> 0.000</td> <td> -157.787</td> <td>  -79.416</td>\n",
       "</tr>\n",
       "<tr>\n",
       "  <th>MEI</th>      <td>    0.0620</td> <td>    0.007</td> <td>    9.438</td> <td> 0.000</td> <td>    0.049</td> <td>    0.075</td>\n",
       "</tr>\n",
       "<tr>\n",
       "  <th>CO2</th>      <td>    0.0107</td> <td>    0.001</td> <td>   19.777</td> <td> 0.000</td> <td>    0.010</td> <td>    0.012</td>\n",
       "</tr>\n",
       "<tr>\n",
       "  <th>TSI</th>      <td>    0.0842</td> <td>    0.015</td> <td>    5.764</td> <td> 0.000</td> <td>    0.055</td> <td>    0.113</td>\n",
       "</tr>\n",
       "<tr>\n",
       "  <th>Aerosols</th> <td>   -1.5844</td> <td>    0.217</td> <td>   -7.303</td> <td> 0.000</td> <td>   -2.011</td> <td>   -1.157</td>\n",
       "</tr>\n",
       "</table>\n",
       "<table class=\"simpletable\">\n",
       "<tr>\n",
       "  <th>Omnibus:</th>       <td>14.491</td> <th>  Durbin-Watson:     </th> <td>   0.891</td>\n",
       "</tr>\n",
       "<tr>\n",
       "  <th>Prob(Omnibus):</th> <td> 0.001</td> <th>  Jarque-Bera (JB):  </th> <td>  17.210</td>\n",
       "</tr>\n",
       "<tr>\n",
       "  <th>Skew:</th>          <td> 0.444</td> <th>  Prob(JB):          </th> <td>0.000183</td>\n",
       "</tr>\n",
       "<tr>\n",
       "  <th>Kurtosis:</th>      <td> 3.817</td> <th>  Cond. No.          </th> <td>5.03e+06</td>\n",
       "</tr>\n",
       "</table><br/><br/>Warnings:<br/>[1] Standard Errors assume that the covariance matrix of the errors is correctly specified.<br/>[2] The condition number is large, 5.03e+06. This might indicate that there are<br/>strong multicollinearity or other numerical problems."
      ],
      "text/plain": [
       "<class 'statsmodels.iolib.summary.Summary'>\n",
       "\"\"\"\n",
       "                            OLS Regression Results                            \n",
       "==============================================================================\n",
       "Dep. Variable:                   Temp   R-squared:                       0.734\n",
       "Model:                            OLS   Adj. R-squared:                  0.730\n",
       "Method:                 Least Squares   F-statistic:                     192.1\n",
       "Date:                Wed, 25 Dec 2019   Prob (F-statistic):           7.36e-79\n",
       "Time:                        14:27:15   Log-Likelihood:                 270.59\n",
       "No. Observations:                 284   AIC:                            -531.2\n",
       "Df Residuals:                     279   BIC:                            -512.9\n",
       "Df Model:                           4                                         \n",
       "Covariance Type:            nonrobust                                         \n",
       "==============================================================================\n",
       "                 coef    std err          t      P>|t|      [0.025      0.975]\n",
       "------------------------------------------------------------------------------\n",
       "const       -118.6016     19.906     -5.958      0.000    -157.787     -79.416\n",
       "MEI            0.0620      0.007      9.438      0.000       0.049       0.075\n",
       "CO2            0.0107      0.001     19.777      0.000       0.010       0.012\n",
       "TSI            0.0842      0.015      5.764      0.000       0.055       0.113\n",
       "Aerosols      -1.5844      0.217     -7.303      0.000      -2.011      -1.157\n",
       "==============================================================================\n",
       "Omnibus:                       14.491   Durbin-Watson:                   0.891\n",
       "Prob(Omnibus):                  0.001   Jarque-Bera (JB):               17.210\n",
       "Skew:                           0.444   Prob(JB):                     0.000183\n",
       "Kurtosis:                       3.817   Cond. No.                     5.03e+06\n",
       "==============================================================================\n",
       "\n",
       "Warnings:\n",
       "[1] Standard Errors assume that the covariance matrix of the errors is correctly specified.\n",
       "[2] The condition number is large, 5.03e+06. This might indicate that there are\n",
       "strong multicollinearity or other numerical problems.\n",
       "\"\"\""
      ]
     },
     "execution_count": 88,
     "metadata": {},
     "output_type": "execute_result"
    }
   ],
   "source": [
    "# question 3\n",
    "#workflow 1\n",
    "# 1.1 Highly related variables remove \"highly related\" VIF\n",
    "climate_change_1_train_X = climate_change_1_train.iloc[:,2:10]\n",
    "climate_change_1_train_X.corr()\n",
    "#80% above is considered as highly related\n",
    "#CO2,CH4 CO2,N2O CO2,CFC-12\n",
    "#N2O,CH4 N2O,CFC-12\n",
    "#CFC-11,CFC-12\n",
    "\n",
    "#delete N2O,CH4,CFC-12\n",
    "climate_change_1_train_X_new = climate_change_1_train.loc[:,['MEI','CO2','CFC-11','TSI','Aerosols']]\n",
    "\n",
    "# 1.2 run a regression remove not significant with alpha = 0.01\n",
    "import statsmodels.api as sm\n",
    "from statsmodels import regression\n",
    "climate_change_1_train_X_new=sm.add_constant(climate_change_1_train_X_new)\n",
    "model=sm.OLS(climate_change_1_train_Y,climate_change_1_train_X_new)\n",
    "res=model.fit()\n",
    "#Bata=res.params\n",
    "#print(Bata)\n",
    "res.summary()\n",
    "\n",
    "#delete CFC-11 is not significant\n",
    "\n",
    "# 1.3 run the final model\n",
    "climate_change_1_train_X_new_2 = climate_change_1_train.loc[:,['MEI','CO2','TSI','Aerosols']]\n",
    "climate_change_1_train_X_new_2=sm.add_constant(climate_change_1_train_X_new_2)\n",
    "model=sm.OLS(climate_change_1_train_Y,climate_change_1_train_X_new_2)\n",
    "res=model.fit()\n",
    "#Bata=res.params\n",
    "#print(Bata)\n",
    "res.summary()"
   ]
  },
  {
   "cell_type": "markdown",
   "metadata": {},
   "source": [
    "Solution 2: Use LASSO to select features.\n",
    "Select the CO2, CFC-12, CFC-11,CH4"
   ]
  },
  {
   "cell_type": "code",
   "execution_count": 107,
   "metadata": {},
   "outputs": [
    {
     "name": "stdout",
     "output_type": "stream",
     "text": [
      "[ 0.00000000e+00  4.56350785e-03  3.94375225e-05  0.00000000e+00\n",
      " -3.14327394e-03  2.26800658e-03  0.00000000e+00 -0.00000000e+00]\n",
      "Lasso picked 4 variables and eliminated the other 4 variables\n",
      "0.22806213106989082\n"
     ]
    }
   ],
   "source": [
    "import pandas as pd\n",
    "import numpy as np\n",
    "import csv as csv\n",
    "import matplotlib\n",
    "import matplotlib.pyplot as plt\n",
    "from sklearn.linear_model import Ridge, RidgeCV, ElasticNet, LassoCV, LassoLarsCV\n",
    "from sklearn.model_selection import cross_val_score\n",
    "\n",
    "climate_change_1_train_Y = climate_change_1_train['Temp']\n",
    "climate_change_1_train_X = climate_change_1_train.iloc[:,2:10]\n",
    "def rmse_cv(model):\n",
    "    rmse= np.sqrt(-cross_val_score(model,climate_change_1_train_X,climate_change_1_train_Y, scoring=\"neg_mean_squared_error\", cv = 3))\n",
    "    return(rmse)\n",
    "\n",
    "model_lasso = LassoCV(alphas = [0.1,1,0.01,10],cv=5).fit(climate_change_1_train_X, climate_change_1_train_Y)\n",
    "\n",
    "\n",
    "print(model_lasso.coef_)\n",
    "\n",
    "coef = pd.Series(model_lasso.coef_, index =climate_change_1_train_X.columns)\n",
    "print(\"Lasso picked \" + str(sum(coef != 0)) + \" variables and eliminated the other \" +  str(sum(coef == 0)) + \" variables\")\n",
    "print(rmse_cv(model_lasso).mean())"
   ]
  },
  {
   "cell_type": "code",
   "execution_count": 111,
   "metadata": {},
   "outputs": [
    {
     "data": {
      "image/png": "[encoded data removed]",
      "text/plain": [
       "<Figure size 576x720 with 1 Axes>"
      ]
     },
     "metadata": {
      "needs_background": "light"
     },
     "output_type": "display_data"
    }
   ],
   "source": [
    "imp_coef = pd.concat([coef.sort_values()])\n",
    "matplotlib.rcParams['figure.figsize'] = (8.0, 10.0)\n",
    "imp_coef.plot(kind = \"barh\")\n",
    "plt.title(\"Coefficients in the Lasso Model\")\n",
    "plt.show()"
   ]
  },
  {
   "cell_type": "markdown",
   "metadata": {},
   "source": [
    "Answer: 2. Train a better model than the model in Problem 2."
   ]
  },
  {
   "cell_type": "code",
   "execution_count": 118,
   "metadata": {},
   "outputs": [
    {
     "data": {
      "text/plain": [
       "array([-0.00106333,  0.00424774, -0.0051454 ,  0.00378017])"
      ]
     },
     "execution_count": 118,
     "metadata": {},
     "output_type": "execute_result"
    }
   ],
   "source": [
    "#question 3.2\n",
    "#select the CH4,CO2,CFC-11,CFC-12 with LASSO\n",
    "# rigde regression\n",
    "import numpy as np\n",
    "from sklearn.linear_model import Ridge,RidgeCV\n",
    "from sklearn import linear_model\n",
    "clf = linear_model.Ridge(alpha=0.1) \n",
    "climate_change_1_train_X_new = climate_change_1_train.loc[:,['CH4','CO2','CFC-11','CFC-12']]\n",
    "closed_form_2(climate_change_1_train_X_new,climate_change_1_train_Y,0.1)"
   ]
  },
  {
   "cell_type": "markdown",
   "metadata": {},
   "source": [
    "Problem4-Gradient Descent"
   ]
  },
  {
   "cell_type": "markdown",
   "metadata": {},
   "source": [
    "Answer: Gradient descent algorithm is an iterative process that takes us to the minimum of a function. Please write down the iterative expression for updating the solution of linear model and implement it using Python or Matlab in gradientDescent function."
   ]
  },
  {
   "cell_type": "markdown",
   "metadata": {},
   "source": [
    "repeat until convergence : {\n",
    "$$ \\theta_0\\: = \\theta_0-\\alpha\\frac{1}{m}\\sum\\limits_{m=1}^m(h_\\theta(x^i)-y^i)$$\n",
    "$$ \\theta_1\\: = \\theta_1-\\alpha\\frac{1}{m}\\sum\\limits_{m=1}^m((h_\\theta(x^i)-y^i)x^i)$$\n",
    "\n",
    "}"
   ]
  },
  {
   "cell_type": "code",
   "execution_count": 3,
   "metadata": {},
   "outputs": [],
   "source": [
    "# problem 4\n",
    "def gradientdescent(alpha,initial,X,Y,theta_0):\n",
    "    learningRate = 0.001\n",
    "    iter_Max = 10000\n",
    "    threshold = 1e-8\n",
    "    gap = 1000\n",
    "    x = initial\n",
    "    iter_n = 0\n",
    "    loss = (1./len(X))*np.dot(X.T,np.dot(X.T,(np.dot(x,theta))-Y))\n",
    "    while (gap>threshold and iter_n < iter_Max):\n",
    "        theta = theta - alpha * (1./len(X)) * np.dot(X.T,(np.dot(X,theta) - Y))\n",
    "        loss = (1./len(X))*np.dot(X.T,np.dot(X.T,(np.dot(x,theta))-Y))\n",
    "        X_New = X - learningRate*grad\n",
    "        gap = norm(X_New - X, 2)\n",
    "        X = X_New\n",
    "        iter_n += 1             "
   ]
  }
 ],
 "metadata": {
  "kernelspec": {
   "display_name": "Python 3",
   "language": "python",
   "name": "python3"
  },
  "language_info": {
   "codemirror_mode": {
    "name": "ipython",
    "version": 3
   },
   "file_extension": ".py",
   "mimetype": "text/x-python",
   "name": "python",
   "nbconvert_exporter": "python",
   "pygments_lexer": "ipython3",
   "version": "3.7.4"
  }
 },
 "nbformat": 4,
 "nbformat_minor": 2
}
